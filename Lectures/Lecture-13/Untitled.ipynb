{
 "cells": [
  {
   "cell_type": "code",
   "execution_count": 76,
   "metadata": {},
   "outputs": [],
   "source": [
    "class base:\n",
    "    __name=\"\"\n",
    "    \n",
    "    def __init__(self,name):\n",
    "        self.__name=name\n",
    "    \n",
    "    def name(self):\n",
    "        return self.__name\n",
    "    \n",
    "\n",
    "class data(base):\n",
    "    def __init__(self,name):\n",
    "        base.__init__(self,name)\n",
    "        \n",
    "class alg(base):\n",
    "    def __init__(self,name):\n",
    "        base.__init__(self,name)\n",
    "class grade(data):\n",
    "    __value=0\n",
    "    __numerical=True\n",
    "    __gradebook_name=str()\n",
    "    __letter_grades=[\"F-\",\"F\",\"F+\",\"D-\",\"D\",\"D+\",\"C-\",\"C\",\"C+\",\"B-\",\"B\",\"B+\",\"A-\",\"A\",\"A+\"]\n",
    "    \n",
    "    def __init__(self,name,numerical=True,value=None):\n",
    "        if value:\n",
    "            if isinstance(value,(int,float)):\n",
    "                self.__numerical=True\n",
    "            elif isinstance(value,str):\n",
    "                self.__numerical=False\n",
    "            self.set(value)\n",
    "        else:            \n",
    "            self.__numerical=numerical\n",
    "        self.__gradebook_name=name\n",
    "        data.__init__(self,name+\" Grade Algorithm\")        \n",
    "\n",
    "    def set(self,value):\n",
    "        if isinstance(value,(int,float)) and self.__numerical:\n",
    "            self.__value=value\n",
    "        elif isinstance(value,str) and not self.__numerical:\n",
    "            if value in self.__letter_grades:\n",
    "                self.__value=value\n",
    "        else:\n",
    "            print self.name()+\" Error: Bad Grade.\"\n",
    "            raise Exception\n",
    "    \n",
    "    def value(self):\n",
    "        return self.__value\n",
    "    \n",
    "    def numerical(self):\n",
    "        return self.__numerical\n",
    "    \n",
    "    def gradebook_name(self):\n",
    "        return self.__gradebook_name\n",
    "    def __str__(self):\n",
    "        return self.__gradebook_name+\": \"+str(self.__value)\n",
    "class student(data):\n",
    "    __id_number=int\n",
    "    __grades=dict()\n",
    "    \n",
    "    def __init__(self,first_name, last_name,id_number):\n",
    "        self.__id_number=id_number\n",
    "        data.__init__(self,first_name+\" \"+last_name+\" Student Data\")\n",
    "\n",
    "    def add_grade(self,a_grade,overwrite=False):\n",
    "        if overwrite or not a_grade.gradebook_name() in self.__grades:\n",
    "            self.__grades[a_grade.gradebook_name()]=a_grade\n",
    "        else:\n",
    "            print self.name()+\" Error Adding Grade \"+a_grade.name()+\". Grade already exists.\"\n",
    "            raise Exception\n",
    "\n",
    "    def id_number(self):\n",
    "        return __id_number\n",
    "    \n",
    "    def __getitem__(self,key):\n",
    "        return self.__grades[key]\n",
    "    \n",
    "    def print_grades(self):\n",
    "        for grade in self.__grades:\n",
    "            print self.__grades[grade]\n",
    "    \n"
   ]
  },
  {
   "cell_type": "code",
   "execution_count": 77,
   "metadata": {},
   "outputs": [
    {
     "ename": "NameError",
     "evalue": "global name '_student__id_number' is not defined",
     "output_type": "error",
     "traceback": [
      "\u001b[0;31m\u001b[0m",
      "\u001b[0;31mNameError\u001b[0mTraceback (most recent call last)",
      "\u001b[0;32m<ipython-input-77-37edf3d9ef0e>\u001b[0m in \u001b[0;36m<module>\u001b[0;34m()\u001b[0m\n\u001b[1;32m      1\u001b[0m \u001b[0mstd\u001b[0m\u001b[0;34m=\u001b[0m\u001b[0mstudent\u001b[0m\u001b[0;34m(\u001b[0m\u001b[0;34m\"ayush\"\u001b[0m\u001b[0;34m,\u001b[0m\u001b[0;34m\"ojha\"\u001b[0m\u001b[0;34m,\u001b[0m\u001b[0;36m100\u001b[0m\u001b[0;34m)\u001b[0m\u001b[0;34m\u001b[0m\u001b[0m\n\u001b[1;32m      2\u001b[0m \u001b[0mstd\u001b[0m\u001b[0;34m.\u001b[0m\u001b[0mname\u001b[0m\u001b[0;34m(\u001b[0m\u001b[0;34m)\u001b[0m\u001b[0;34m\u001b[0m\u001b[0m\n\u001b[0;32m----> 3\u001b[0;31m \u001b[0mstd\u001b[0m\u001b[0;34m.\u001b[0m\u001b[0mid_number\u001b[0m\u001b[0;34m(\u001b[0m\u001b[0;34m)\u001b[0m\u001b[0;34m\u001b[0m\u001b[0m\n\u001b[0m\u001b[1;32m      4\u001b[0m \u001b[0;31m#std.add_grade()\u001b[0m\u001b[0;34m\u001b[0m\u001b[0;34m\u001b[0m\u001b[0m\n",
      "\u001b[0;32m<ipython-input-76-32bd84c90336>\u001b[0m in \u001b[0;36mid_number\u001b[0;34m(self)\u001b[0m\n\u001b[1;32m     70\u001b[0m \u001b[0;34m\u001b[0m\u001b[0m\n\u001b[1;32m     71\u001b[0m     \u001b[0;32mdef\u001b[0m \u001b[0mid_number\u001b[0m\u001b[0;34m(\u001b[0m\u001b[0mself\u001b[0m\u001b[0;34m)\u001b[0m\u001b[0;34m:\u001b[0m\u001b[0;34m\u001b[0m\u001b[0m\n\u001b[0;32m---> 72\u001b[0;31m         \u001b[0;32mreturn\u001b[0m \u001b[0m__id_number\u001b[0m\u001b[0;34m\u001b[0m\u001b[0m\n\u001b[0m\u001b[1;32m     73\u001b[0m \u001b[0;34m\u001b[0m\u001b[0m\n\u001b[1;32m     74\u001b[0m     \u001b[0;32mdef\u001b[0m \u001b[0m__getitem__\u001b[0m\u001b[0;34m(\u001b[0m\u001b[0mself\u001b[0m\u001b[0;34m,\u001b[0m\u001b[0mkey\u001b[0m\u001b[0;34m)\u001b[0m\u001b[0;34m:\u001b[0m\u001b[0;34m\u001b[0m\u001b[0m\n",
      "\u001b[0;31mNameError\u001b[0m: global name '_student__id_number' is not defined"
     ]
    }
   ],
   "source": [
    "std=student(\"ayush\",\"ojha\",100)\n",
    "std.name()\n",
    "std.add_grade()"
   ]
  },
  {
   "cell_type": "code",
   "execution_count": null,
   "metadata": {},
   "outputs": [],
   "source": []
  }
 ],
 "metadata": {
  "kernelspec": {
   "display_name": "Python 2",
   "language": "python",
   "name": "python2"
  },
  "language_info": {
   "codemirror_mode": {
    "name": "ipython",
    "version": 2
   },
   "file_extension": ".py",
   "mimetype": "text/x-python",
   "name": "python",
   "nbconvert_exporter": "python",
   "pygments_lexer": "ipython2",
   "version": "2.7.15"
  }
 },
 "nbformat": 4,
 "nbformat_minor": 2
}
