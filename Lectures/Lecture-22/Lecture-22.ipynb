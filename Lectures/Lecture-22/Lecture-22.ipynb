{
 "cells": [
  {
   "cell_type": "markdown",
   "metadata": {},
   "source": [
    "# Lecture 22\n",
    "\n",
    "I'm not completely sure what was covered last week. You had a previous introduction to numpy from Dr. Asaadi: [Lecture notes](https://docs.google.com/presentation/d/1NqpZmDWl2hiti4SuKcxaxe6YXVjj9UkAGbT1NHqrnKo/edit#slide=id.p).\n",
    "\n",
    "From my understanding, this is the material you were pointed to last week by Dr. Shahmoradi:\n",
    "* [Lectures from last week](http://www.shahmoradi.org/ECL2017S/lecture/9-python-array-computing-plotting)\n",
    "* [Homework from last week](http://www.shahmoradi.org/ECL2017S/homework/8-problems-python-array-computing-plotting)\n",
    "\n",
    "I found these [nice numpy lecture](https://github.com/jrjohansson/scientific-python-lectures/blob/master/Lecture-2-Numpy.ipynb) helpful, we could go thorugh them.\n"
   ]
  },
  {
   "cell_type": "code",
   "execution_count": 2,
   "metadata": {},
   "outputs": [],
   "source": [
    "import numpy as np\n",
    "import matplotlib.pyplot as plt\n",
    "%matplotlib inline"
   ]
  },
  {
   "cell_type": "code",
   "execution_count": 10,
   "metadata": {},
   "outputs": [],
   "source": [
    "def hatFunc(x):\n",
    "    if x < 0:\n",
    "        return 0.0\n",
    "    elif 0 <= x < 1:\n",
    "        return x\n",
    "    elif 1 <= x < 2:\n",
    "        return 2 - x\n",
    "    elif x >= 2:\n",
    "        return 0.0"
   ]
  },
  {
   "cell_type": "code",
   "execution_count": 15,
   "metadata": {},
   "outputs": [],
   "source": [
    "y=list()\n",
    "for i in range(len(x)):\n",
    "    y.append(hatFunc(x[i]))"
   ]
  },
  {
   "cell_type": "code",
   "execution_count": 13,
   "metadata": {},
   "outputs": [
    {
     "data": {
      "text/plain": [
       "[<matplotlib.lines.Line2D at 0x1114f69d0>]"
      ]
     },
     "execution_count": 13,
     "metadata": {},
     "output_type": "execute_result"
    },
    {
     "data": {
      "image/png": "[encoded data removed]",
      "text/plain": [
       "<matplotlib.figure.Figure at 0x1104473d0>"
      ]
     },
     "metadata": {},
     "output_type": "display_data"
    }
   ],
   "source": [
    "x=np.linspace(-10.,10,100)\n",
    "y=map(hatFunc,x)\n",
    "plt.plot(x,y)"
   ]
  },
  {
   "cell_type": "code",
   "execution_count": 24,
   "metadata": {},
   "outputs": [],
   "source": [
    "y=x.copy()\n",
    "y[x<0]=0.\n",
    "index=np.logical_and(0.<=x,x<1)\n",
    "y[index]=x[index]"
   ]
  },
  {
   "cell_type": "code",
   "execution_count": 26,
   "metadata": {},
   "outputs": [],
   "source": [
    "\n",
    "def hatFunc_vect(x):\n",
    "    y=x.copy()\n",
    "    y[x<0]=0.\n",
    "    index=np.logical_and(0.<=x,x<1.)\n",
    "    y[index]=x[index]\n",
    "    index=np.logical_and(1.<=x,x<2.)\n",
    "    y[index]=2.-x[index]\n",
    "    y[x>=2]=0.\n",
    "    \n",
    "    return y\n",
    "    "
   ]
  },
  {
   "cell_type": "code",
   "execution_count": 41,
   "metadata": {},
   "outputs": [
    {
     "data": {
      "text/plain": [
       "[<matplotlib.lines.Line2D at 0x10949f510>]"
      ]
     },
     "execution_count": 41,
     "metadata": {},
     "output_type": "execute_result"
    },
    {
     "data": {
      "image/png": "[encoded data removed]",
      "text/plain": [
       "<matplotlib.figure.Figure at 0x1094cba50>"
      ]
     },
     "metadata": {},
     "output_type": "display_data"
    }
   ],
   "source": [
    "x=np.linspace(-5.,5.,100)\n",
    "\n",
    "plt.plot(x,hatFunc_vect(x))"
   ]
  },
  {
   "cell_type": "code",
   "execution_count": 27,
   "metadata": {},
   "outputs": [
    {
     "name": "stdout",
     "output_type": "stream",
     "text": [
      "The slowest run took 7.06 times longer than the fastest. This could mean that an intermediate result is being cached.\n",
      "100000 loops, best of 3: 10.9 µs per loop\n"
     ]
    }
   ],
   "source": [
    "%timeit hatFunc_vect(x)"
   ]
  },
  {
   "cell_type": "code",
   "execution_count": 28,
   "metadata": {},
   "outputs": [
    {
     "name": "stdout",
     "output_type": "stream",
     "text": [
      "10000 loops, best of 3: 71.7 µs per loop\n"
     ]
    }
   ],
   "source": [
    "xx=x.tolist()\n",
    "\n",
    "%timeit map(hatFunc,x)\n"
   ]
  },
  {
   "cell_type": "code",
   "execution_count": null,
   "metadata": {
    "collapsed": true
   },
   "outputs": [],
   "source": [
    "# From: https://www.cdc.gov/nchs/data/series/sr_03/sr03_039.pdf"
   ]
  },
  {
   "cell_type": "code",
   "execution_count": 4,
   "metadata": {},
   "outputs": [
    {
     "data": {
      "text/plain": [
       "(array([0]),)"
      ]
     },
     "execution_count": 4,
     "metadata": {},
     "output_type": "execute_result"
    }
   ],
   "source": [
    "x=np.array([1,2,3])\n",
    "\n",
    "np.where(x<2)"
   ]
  },
  {
   "cell_type": "code",
   "execution_count": 5,
   "metadata": {},
   "outputs": [
    {
     "data": {
      "text/plain": [
       "(array([0, 2]),)"
      ]
     },
     "execution_count": 5,
     "metadata": {},
     "output_type": "execute_result"
    }
   ],
   "source": [
    "np.where( [True,False,True])"
   ]
  },
  {
   "cell_type": "code",
   "execution_count": 7,
   "metadata": {},
   "outputs": [
    {
     "data": {
      "text/plain": [
       "array([1])"
      ]
     },
     "execution_count": 7,
     "metadata": {},
     "output_type": "execute_result"
    }
   ],
   "source": [
    "x[np.where(x<2)]"
   ]
  },
  {
   "cell_type": "code",
   "execution_count": null,
   "metadata": {},
   "outputs": [],
   "source": []
  }
 ],
 "metadata": {
  "kernelspec": {
   "display_name": "Python 2",
   "language": "python",
   "name": "python2"
  },
  "language_info": {
   "codemirror_mode": {
    "name": "ipython",
    "version": 2
   },
   "file_extension": ".py",
   "mimetype": "text/x-python",
   "name": "python",
   "nbconvert_exporter": "python",
   "pygments_lexer": "ipython2",
   "version": "2.7.10"
  }
 },
 "nbformat": 4,
 "nbformat_minor": 2
}
