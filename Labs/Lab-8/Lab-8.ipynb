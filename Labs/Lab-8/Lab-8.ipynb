{
 "cells": [
  {
   "cell_type": "markdown",
   "metadata": {},
   "source": [
    "# Lab 8\n",
    "\n",
    "In this lab we are going to start perform some data analysis. We will use numpy, pandas, and matplotlib, so lets import them:"
   ]
  },
  {
   "cell_type": "code",
   "execution_count": 1,
   "metadata": {
    "collapsed": true
   },
   "outputs": [],
   "source": [
    "import pandas as pd\n",
    "import numpy as np\n",
    "import matplotlib.pyplot as plt\n",
    "%matplotlib inline"
   ]
  },
  {
   "cell_type": "markdown",
   "metadata": {},
   "source": [
    "We will focus on the heart dataset introduced in lecture 23. You can load the dataset using pandas:"
   ]
  },
  {
   "cell_type": "code",
   "execution_count": 2,
   "metadata": {
    "collapsed": true
   },
   "outputs": [],
   "source": [
    "df_heart=pd.read_csv(\"../../Lectures/Lecture-23/heart.csv\")"
   ]
  },
  {
   "cell_type": "markdown",
   "metadata": {},
   "source": [
    "** Exercise 1: ** Histogram every observable for each of the types of chest pain, for no chest pain, and for any chest pain. Make one figure for each observable, with 2 axes. On one axes compare no chest pain with any chest pain. On the other compare no chest pain with every chest pain catagory. Make sure that every category is uniquely represented in the histogram (e.g. different color). Don't forget to create legends, label axes, and put appropriate titles. In the legend, also indicate the mean and variance. \n",
    "\n",
    "Based on your histograms, rank the observables in terms their effectiveness of predicting of chest pain."
   ]
  },
  {
   "cell_type": "code",
   "execution_count": null,
   "metadata": {
    "collapsed": true
   },
   "outputs": [],
   "source": []
  },
  {
   "cell_type": "markdown",
   "metadata": {},
   "source": [
    "** Exercise 2: ** For the top 3 discrete observables, compute the True Positive Rate (TPR) and False Positive Rate (FPR) for predicting chest pain for each value of the observable. Present your results in tables."
   ]
  },
  {
   "cell_type": "code",
   "execution_count": null,
   "metadata": {
    "collapsed": true
   },
   "outputs": [],
   "source": []
  },
  {
   "cell_type": "markdown",
   "metadata": {},
   "source": [
    "** Exercise 3: ** For the top 3 continuous observables, draw a Reciever Operating Characteristic (ROC) curve and compute the area under the curve. "
   ]
  },
  {
   "cell_type": "code",
   "execution_count": null,
   "metadata": {
    "collapsed": true
   },
   "outputs": [],
   "source": []
  },
  {
   "cell_type": "markdown",
   "metadata": {},
   "source": [
    "** Exercise 4: ** Using numpy, compute the between-class $\\bf{S}_B$ and within-class $\\bf{S}_W$ covariance matrices defined as:\n",
    "\n",
    "$$\n",
    "\\bf{S}_B = (\\bf{m_2}-\\bf{m_1})(\\bf{m_2}-\\bf{m_1})^T \\\\\n",
    "$$\n",
    "$$\n",
    "\\bf{S}_W = \\sum_{i=1,2} \\sum_{n=1}^{l_i} (\\bf{x}_n^i - \\bf{m}_i) (\\bf{x}_n^i - \\bf{m}_i)^T\n",
    "$$\n",
    "\n",
    "where $\\bf{m_i}$ are the vectors containing the means for category 1 and 2, here defined as no chest pain and any chest pain. Here $\\bf{x}_n^i$ is the vector containing the observables for the $n$th example patient in category $i$."
   ]
  },
  {
   "cell_type": "code",
   "execution_count": null,
   "metadata": {
    "collapsed": true
   },
   "outputs": [],
   "source": []
  },
  {
   "cell_type": "markdown",
   "metadata": {},
   "source": [
    "** Exercise 5:** Compute the linear coefficients $\\bf{w} = \\bf{S_W}^{-1}(\\bf{m_2}-\\bf{m_1})$. Compare the histogram of the distribution of $F_n^i=\\bf{w}^T\\bf{x}_n^i$ for the two categories."
   ]
  },
  {
   "cell_type": "code",
   "execution_count": null,
   "metadata": {
    "collapsed": true
   },
   "outputs": [],
   "source": []
  },
  {
   "cell_type": "markdown",
   "metadata": {},
   "source": [
    "** Exercise 6: ** Draw the ROC curve for $F_n$. Select a \"cut\" value for $F_n$ which maximizes TPR / $\\sqrt($ FPR + TPR $)$."
   ]
  },
  {
   "cell_type": "code",
   "execution_count": null,
   "metadata": {
    "collapsed": true
   },
   "outputs": [],
   "source": []
  }
 ],
 "metadata": {
  "kernelspec": {
   "display_name": "Python 2",
   "language": "python",
   "name": "python2"
  },
  "language_info": {
   "codemirror_mode": {
    "name": "ipython",
    "version": 2
   },
   "file_extension": ".py",
   "mimetype": "text/x-python",
   "name": "python",
   "nbconvert_exporter": "python",
   "pygments_lexer": "ipython2",
   "version": "2.7.10"
  }
 },
 "nbformat": 4,
 "nbformat_minor": 2
}
