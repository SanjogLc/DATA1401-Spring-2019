{
 "cells": [
  {
   "cell_type": "markdown",
   "metadata": {},
   "source": [
    "## Lab 4\n",
    "\n",
    "In this lab we will become familiar with distributions, histograms, and functional programming. \n",
    "\n",
    "\n",
    "### Uniform Distribution\n",
    "Lets start with generating some fake random data. You can get a random number between 0 and 1 using the python random module as follow:"
   ]
  },
  {
   "cell_type": "code",
   "execution_count": 3,
   "metadata": {},
   "outputs": [
    {
     "name": "stdout",
     "output_type": "stream",
     "text": [
      "The Value of x is 0.828601286302\n"
     ]
    }
   ],
   "source": [
    "import random\n",
    "x=random.random()\n",
    "print \"The Value of x is\", x"
   ]
  },
  {
   "cell_type": "markdown",
   "metadata": {},
   "source": [
    "Everytime you call random, you will get a new number.\n",
    "\n",
    "*Exercise 1:* Using random, write a function `generate_uniform(N, mymin, mymax)`, that returns a python list containing N random numbers between specified minimum and maximum value. Note that you may want to quickly work out on paper how to turn numbers between 0 and 1 to between other values. "
   ]
  },
  {
   "cell_type": "code",
   "execution_count": 4,
   "metadata": {
    "collapsed": true
   },
   "outputs": [],
   "source": [
    "# Skeleton\n",
    "def generate_uniform(N,mn,mx):\n",
    "    r=mx-mn\n",
    "    out = []    \n",
    "    for i in range(N):\n",
    "        x=random.random()\n",
    "        final=(x*r)+mn\n",
    "        out.append(final)\n",
    "    return out"
   ]
  },
  {
   "cell_type": "code",
   "execution_count": 21,
   "metadata": {
    "collapsed": true
   },
   "outputs": [],
   "source": [
    "# Test you solution here\n",
    "Data=generate_uniform(10,10,20)"
   ]
  },
  {
   "cell_type": "markdown",
   "metadata": {},
   "source": [
    "*Exercise 2a:* \n",
    "Write a function that computes the mean of values in a list."
   ]
  },
  {
   "cell_type": "code",
   "execution_count": 22,
   "metadata": {
    "collapsed": true
   },
   "outputs": [],
   "source": [
    "# Skeleton\n",
    "def mean(Data):\n",
    "    m=0\n",
    "    total=0\n",
    "    for i in Data:\n",
    "        total=total+i\n",
    "    m=total/len(Data)\n",
    "    return m"
   ]
  },
  {
   "cell_type": "code",
   "execution_count": 23,
   "metadata": {},
   "outputs": [
    {
     "name": "stdout",
     "output_type": "stream",
     "text": [
      "Mean of Data: 14.5230795766\n"
     ]
    }
   ],
   "source": [
    "# Test your solution here\n",
    "print \"Mean of Data:\", mean(Data)"
   ]
  },
  {
   "cell_type": "markdown",
   "metadata": {},
   "source": [
    "*Exercise 2b:* \n",
    "Write a function that computes the variance of values in a list."
   ]
  },
  {
   "cell_type": "code",
   "execution_count": 24,
   "metadata": {
    "collapsed": true
   },
   "outputs": [],
   "source": [
    "# Skeleton\n",
    "def variance(Data):\n",
    "    m=mean(Data)\n",
    "    diff=[]\n",
    "    for i in Data:\n",
    "        diff.append((i-m)**2)\n",
    "    total=sum(diff)\n",
    "    var=total/len(Data)       \n",
    "    \n",
    "    return var"
   ]
  },
  {
   "cell_type": "code",
   "execution_count": 25,
   "metadata": {},
   "outputs": [
    {
     "name": "stdout",
     "output_type": "stream",
     "text": [
      "Variance of Data: 8.88699624103\n"
     ]
    }
   ],
   "source": [
    "# Test your solution here\n",
    "print \"Variance of Data:\", variance(Data)"
   ]
  },
  {
   "cell_type": "markdown",
   "metadata": {},
   "source": [
    "## Histogramming"
   ]
  },
  {
   "cell_type": "markdown",
   "metadata": {},
   "source": [
    "*Exercise 3:* Write a function that bins the data so that you can create a histogram. An example of how to implement histogramming is the following logic:\n",
    "\n",
    "* User inputs a list of values `x` and optionally `n_bins` which defaults to 10.\n",
    "* If not supplied, find the minimum and maximum (`x_min`,`x_max`) of the values in x.\n",
    "* Determine the bin size (`bin_size`) by dividing the range of the function by the number of bins.\n",
    "* Create an empty list of zeros of size `n_bins`, call it `hist`.\n",
    "* Loop over the values in `x`\n",
    "    * Loop over the values in `hist` with index `i`:\n",
    "        * If x is between `x_min+i*bin_size` and `x_min+i*2*bin_size`, increment `hist[i].` \n",
    "        * For efficiency, try to use continue to goto the next bin and data point.\n",
    "* Return `hist` and the list corresponding of the bin edges (i.e. of `x_min+i*bin_size`).    "
   ]
  },
  {
   "cell_type": "code",
   "execution_count": 26,
   "metadata": {
    "collapsed": true
   },
   "outputs": [],
   "source": [
    "def histogram(x,n_bins=10,x_min=None,x_max=None):\n",
    "    hist=[]\n",
    "    for i in range(n_bins):\n",
    "        hist.append(0)\n",
    "    if(x_min==None):\n",
    "        x_min=min(x)\n",
    "        print(x_min)\n",
    "    if(x_max==None):\n",
    "        x_max=max(x)\n",
    "        print(x_max)\n",
    "    bin_size=(x_max-x_min)/n_bins    \n",
    "    bin_edges=[]\n",
    "    for i in range (len(hist)):\n",
    "        for j in x:\n",
    "            \n",
    "            if(i==0):\n",
    "                if((j>=(x_min))and(j<x_min+bin_size)):\n",
    "                    hist[i]+=1\n",
    "                continue\n",
    "                    \n",
    "            if ((j>=(x_min+i*bin_size))and(j<x_min+i*2*bin_size)):\n",
    "                hist[i]+=1                \n",
    "                continue\n",
    "        bin_edges.append(x_min+i*bin_size)\n",
    "    \n",
    "    return hist,bin_edges"
   ]
  },
  {
   "cell_type": "code",
   "execution_count": 27,
   "metadata": {},
   "outputs": [
    {
     "name": "stdout",
     "output_type": "stream",
     "text": [
      "10.49939493\n",
      "19.7050016784\n",
      "[10.499394930010006, 11.419955604850873, 12.340516279691741, 13.261076954532609, 14.181637629373476, 15.102198304214344, 16.02275897905521, 16.94331965389608, 17.863880328736947, 18.784441003577815]\n"
     ]
    }
   ],
   "source": [
    "h,b=histogram(Data,10)\n",
    "print b"
   ]
  },
  {
   "cell_type": "markdown",
   "metadata": {},
   "source": [
    "*Exercise 4:* Write a function that uses the histogram function in the previous exercise to create a text-based \"graph\". For example the output could look like the following:\n",
    "```\n",
    "[  0,  9] : ######\n",
    "[  1,  2] : #####\n",
    "[  2,  3] : ######\n",
    "[  3,  4] : ####\n",
    "[  4,  5] : ####\n",
    "[  5,  6] : ######\n",
    "[  6,  7] : #####\n",
    "[  7,  8] : ######\n",
    "[  8,  9] : ####\n",
    "[  9, 10] : #####\n",
    "```\n",
    "\n",
    "Where each line corresponds to a bin and the number of `#`'s are proportional to the value of the data in the bin. "
   ]
  },
  {
   "cell_type": "code",
   "execution_count": 28,
   "metadata": {
    "collapsed": true
   },
   "outputs": [],
   "source": [
    "def draw_histogram(x,n_bins,x_min=None,x_max=None,character=\"#\",max_character_per_line=20):\n",
    "    hist=[]\n",
    "    for i in range(n_bins):\n",
    "        hist.append(0)\n",
    "    if(x_min==None):\n",
    "        x_min=min(x)\n",
    "    if(x_max==None):\n",
    "        x_max=max(x)\n",
    "    bin_size=(x_max-x_min)/n_bins    \n",
    "    bin_edges=[]\n",
    "    for i in range (len(hist)):\n",
    "        for j in x:\n",
    "            \n",
    "            if(i==0):\n",
    "                if((j>=(x_min))and(j<x_min+bin_size)):\n",
    "                    hist[i]+=1\n",
    "                continue\n",
    "                    \n",
    "            if ((j>=(x_min+i*bin_size))and(j<x_min+i*2*bin_size)):\n",
    "                hist[i]+=1                \n",
    "                continue\n",
    "        bin_edges.append(round(x_min+i*bin_size,5))\n",
    "    bin_edges.append(round(x_max,5))\n",
    "    for i in range(len(hist)):\n",
    "        print(\"[\"+str(bin_edges[i])+\",  \"+str(bin_edges[i+1])+\"]    :   \"+character*hist[i])\n",
    "    return hist,bin_edges"
   ]
  },
  {
   "cell_type": "code",
   "execution_count": 29,
   "metadata": {},
   "outputs": [
    {
     "name": "stdout",
     "output_type": "stream",
     "text": [
      "[10.49939,  11.41996]    :   ##\n",
      "[11.41996,  12.34052]    :   \n",
      "[12.34052,  13.26108]    :   ###\n",
      "[13.26108,  14.18164]    :   ###\n",
      "[14.18164,  15.1022]    :   ###\n",
      "[15.1022,  16.02276]    :   ###\n",
      "[16.02276,  16.94332]    :   ###\n",
      "[16.94332,  17.86388]    :   ##\n",
      "[17.86388,  18.78444]    :   ##\n",
      "[18.78444,  19.705]    :   #\n"
     ]
    }
   ],
   "source": [
    "h,b=draw_histogram(Data,10)"
   ]
  },
  {
   "cell_type": "markdown",
   "metadata": {},
   "source": [
    "## Functional Programming\n",
    "\n",
    "*Exercise 5:* Write a function the applies a booling function (that returns true/false) to every element in data, and return a list of indices of elements where the result was true. Use this function to find the indices of entries greater than 0.5. "
   ]
  },
  {
   "cell_type": "code",
   "execution_count": 30,
   "metadata": {
    "collapsed": true
   },
   "outputs": [],
   "source": [
    "def where(mylist,myfunc):\n",
    "    out= []\n",
    "    for i in range(len(mylist)):\n",
    "        if (mylist[i]>0.5):\n",
    "            if(myfunc(mylist[i])):\n",
    "                out.append(i)\n",
    "    return out"
   ]
  },
  {
   "cell_type": "markdown",
   "metadata": {},
   "source": [
    "*Exercise 6:* The inrange(mymin,mymax) function below returns a function that tests if it's input is between the specified values. Write corresponding functions that test:\n",
    "* Even\n",
    "* Odd\n",
    "* Greater than\n",
    "* Less than\n",
    "* Equal\n",
    "* Divisible by"
   ]
  },
  {
   "cell_type": "code",
   "execution_count": 31,
   "metadata": {
    "collapsed": true
   },
   "outputs": [],
   "source": [
    "def in_range(mymin,mymax):\n",
    "    def testrange(x):\n",
    "        return x<mymax and x>=mymin\n",
    "    return testrange"
   ]
  },
  {
   "cell_type": "code",
   "execution_count": 32,
   "metadata": {},
   "outputs": [
    {
     "name": "stdout",
     "output_type": "stream",
     "text": [
      "Number of Entries passing F1: 8\n"
     ]
    }
   ],
   "source": [
    "F1=in_range(11,20)\n",
    "print \"Number of Entries passing F1:\", len(where(Data,F1))"
   ]
  },
  {
   "cell_type": "code",
   "execution_count": 33,
   "metadata": {
    "collapsed": true
   },
   "outputs": [],
   "source": [
    "def even(num):\n",
    "    return ((int)(num)%2==0)\n",
    "def odd(num):\n",
    "    return ((int)(num)%2!=0)\n",
    "def greater_than(num1, num2):\n",
    "    return (num1>num2)\n",
    "def less_than(num1,num2):\n",
    "    return (num1<num2)\n",
    "def equal(num1,num2):\n",
    "    return (num1==num2)\n",
    "def div(num1,divisor):\n",
    "    return(num1%divisor==0)\n"
   ]
  },
  {
   "cell_type": "code",
   "execution_count": 44,
   "metadata": {},
   "outputs": [
    {
     "name": "stdout",
     "output_type": "stream",
     "text": [
      "7\n"
     ]
    }
   ],
   "source": [
    "print(len(where(Data,even)))"
   ]
  },
  {
   "cell_type": "markdown",
   "metadata": {},
   "source": [
    "*Exercise 7:* Repeat the previous exercise using `lambda` and the built-in python functions sum and map instead of your solution above. "
   ]
  },
  {
   "cell_type": "code",
   "execution_count": 67,
   "metadata": {},
   "outputs": [],
   "source": [
    "#for even\n",
    "def even():\n",
    "    lst=map(lambda x: (int(x)%2==0),Data)\n",
    "    lst1=filter(lambda x: (x==True),lst)\n",
    "    return len(lst1)\n",
    "#for odd\n",
    "def odd():\n",
    "    lst=map(lambda x: (int(x)%2==0),Data)\n",
    "    lst1=filter(lambda x: (x==False),lst)\n",
    "    return len(lst1)\n"
   ]
  },
  {
   "cell_type": "code",
   "execution_count": 68,
   "metadata": {},
   "outputs": [
    {
     "data": {
      "text/plain": [
       "3"
      ]
     },
     "execution_count": 68,
     "metadata": {},
     "output_type": "execute_result"
    }
   ],
   "source": [
    "odd()"
   ]
  },
  {
   "cell_type": "markdown",
   "metadata": {},
   "source": [
    "## Monte Carlo\n",
    "\n",
    "*Exercise 7:* Write a \"generator\" function called `generate_function(func,x_min,x_max,N)`, that instead of generating a flat distribution, generates a distribution with functional form coded in `func`. Note that `func` will always be > 0.  \n",
    "\n",
    "Use the test function below and your histogramming functions above to demonstrate that your generator is working properly.\n",
    "\n",
    "Hint: A simple, but slow, solution is to a draw random number test_x within the specified range and another number p between the min and max of the function (which you will have to determine). If p<=function(test_x), then place test_x on the output. If not, repeat the process, drawing two new numbers. Repeat until you have the specified number of generated numbers, N. For this problem, it's OK to determine the min and max by numerically sampling the function.  "
   ]
  },
  {
   "cell_type": "code",
   "execution_count": 73,
   "metadata": {
    "collapsed": true
   },
   "outputs": [],
   "source": [
    "import random\n",
    "def generate_function(func,x_min,x_max,N):\n",
    "    out = list()\n",
    "    for i in range(N):\n",
    "        test_x=x_min+(x_max-x_min)*random.random()\n",
    "        \n",
    "        tempF= lambda test_x: math.sqrt((-2)*math.log(test_x))*math.sin(2*math.pi*(test_x))\n",
    "        temp = tempF(test_x)\n",
    "        \n",
    "        p= x_min+(x_max-x_min)*random.random()\n",
    "        if(p<=temp):\n",
    "            out.append(test_x)\n",
    " \n",
    "    return out"
   ]
  },
  {
   "cell_type": "code",
   "execution_count": null,
   "metadata": {
    "collapsed": true
   },
   "outputs": [],
   "source": [
    "# A test function\n",
    "generate_function()"
   ]
  },
  {
   "cell_type": "markdown",
   "metadata": {},
   "source": [
    "*Exercise 8:* Use your function to generate 1000 numbers that are normal distributed, using the `gaussian` function below. Confirm the mean and variance of the data is close to the mean and variance you specify when building the Gaussian. Histogram the data. "
   ]
  },
  {
   "cell_type": "code",
   "execution_count": null,
   "metadata": {
    "collapsed": true
   },
   "outputs": [],
   "source": [
    "import math\n",
    "\n",
    "def gaussian(mean, sigma):\n",
    "    def f(x):\n",
    "        return math.exp(-((x-mean)**2)/(2*sigma**2))/math.sqrt(math.pi*sigma)\n",
    "    return f\n",
    "\n",
    "# Example Instantiation\n",
    "g1=gaussian(0,1)\n",
    "g2=gaussian(10,3)"
   ]
  },
  {
   "cell_type": "markdown",
   "metadata": {},
   "source": [
    "*Exercise 9:* Combine your `generate_function`, `where`, and `in_range` functions above to create an integrate function. Use your integrate function to show that approximately 68% of Normal distribution is within one variance."
   ]
  },
  {
   "cell_type": "code",
   "execution_count": null,
   "metadata": {
    "collapsed": true
   },
   "outputs": [],
   "source": [
    "def integrate(func, x_min, x_max, n_points=1000):\n",
    "    \n",
    "    return integral"
   ]
  },
  {
   "cell_type": "code",
   "execution_count": null,
   "metadata": {
    "collapsed": true
   },
   "outputs": [],
   "source": []
  }
 ],
 "metadata": {
  "kernelspec": {
   "display_name": "Python 2",
   "language": "python",
   "name": "python2"
  },
  "language_info": {
   "codemirror_mode": {
    "name": "ipython",
    "version": 2
   },
   "file_extension": ".py",
   "mimetype": "text/x-python",
   "name": "python",
   "nbconvert_exporter": "python",
   "pygments_lexer": "ipython2",
   "version": "2.7.13"
  }
 },
 "nbformat": 4,
 "nbformat_minor": 2
}
