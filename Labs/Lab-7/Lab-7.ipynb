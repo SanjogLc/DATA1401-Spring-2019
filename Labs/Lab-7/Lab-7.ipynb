{
 "cells": [
  {
   "cell_type": "code",
   "execution_count": 1,
   "metadata": {},
   "outputs": [],
   "source": [
    "#Question 1\n",
    "import numpy as np\n",
    "import matplotlib.pyplot as mpl"
   ]
  },
  {
   "cell_type": "code",
   "execution_count": 2,
   "metadata": {},
   "outputs": [],
   "source": [
    "def Hatfunc(x):\n",
    "    y=np.array(x) \n",
    "    y[x<0]=0.\n",
    "    index=np.logical_and(x>=0,x<1)\n",
    "    y[index]=x[index]\n",
    "    index2=np.logical_and(x>=1,x<2)\n",
    "    y[index2]=x[index2]\n",
    "    y[x>=2]=0.\n",
    "    return y  \n",
    "    \n",
    "    "
   ]
  },
  {
   "cell_type": "code",
   "execution_count": 3,
   "metadata": {},
   "outputs": [
    {
     "data": {
      "image/png": "[encoded data removed]",
      "text/plain": [
       "<Figure size 432x288 with 1 Axes>"
      ]
     },
     "metadata": {
      "needs_background": "light"
     },
     "output_type": "display_data"
    }
   ],
   "source": [
    "#Test\n",
    "x=np.array([-5,-4,-3,-2,-1,0,.4,0.9,1,1.5,1.7,2,3,4,5])\n",
    "y=Hatfunc(x)\n",
    "\n",
    "mpl.plot(x,y)\n",
    "mpl.show()"
   ]
  },
  {
   "cell_type": "code",
   "execution_count": null,
   "metadata": {},
   "outputs": [],
   "source": []
  },
  {
   "cell_type": "code",
   "execution_count": 4,
   "metadata": {},
   "outputs": [],
   "source": [
    "#Question 2"
   ]
  },
  {
   "cell_type": "code",
   "execution_count": 5,
   "metadata": {},
   "outputs": [],
   "source": [
    "def Energy_calc():\n",
    "    #m=input(\"Enter the mass: \")\n",
    "    #v0=input(\"Enter initial velocity: \")\n",
    "    m=20\n",
    "    v0=1\n",
    "    g=9.8\n",
    "    \n",
    "    temp=(2*v0)/g\n",
    "    print temp\n",
    "    t=np.linspace(0,temp,20)\n",
    "    print t\n",
    "    \n",
    "    \n",
    "    y=np.multiply(v0,t)-np.multiply(np.multiply(np.square(t),g),0.5)\n",
    "    print y\n",
    "    \n",
    "    v=1-np.multiply(g,t)\n",
    "    print v\n",
    "    \n",
    "    P=np.multiply(m,g,y)\n",
    "    K=np.multiply(np.multiply(np.square(v),m),0.5)\n",
    "    E=np.add(P,K)\n",
    "    print P\n",
    "    print K\n",
    "    print E\n",
    "    \n",
    "    mpl.plot(t,P,'r*')\n",
    "    #mpl.show()\n",
    "    mpl.hold('on')\n",
    "    mpl.plot(t,K,'ko')\n",
    "    #mpl.show()\n",
    "    mpl.hold('on')\n",
    "    mpl.plot(t,E,'b-')\n",
    "    mpl.show()"
   ]
  },
  {
   "cell_type": "code",
   "execution_count": 6,
   "metadata": {},
   "outputs": [
    {
     "name": "stdout",
     "output_type": "stream",
     "text": [
      "0.204081632653\n",
      "[0.         0.01074114 0.02148228 0.03222342 0.04296455 0.05370569\n",
      " 0.06444683 0.07518797 0.08592911 0.09667025 0.10741139 0.11815252\n",
      " 0.12889366 0.1396348  0.15037594 0.16111708 0.17185822 0.18259936\n",
      " 0.19334049 0.20408163]\n",
      "[0.         0.01017582 0.01922098 0.02713551 0.03391938 0.03957262\n",
      " 0.0440952  0.04748714 0.04974843 0.05087908 0.05087908 0.04974843\n",
      " 0.04748714 0.0440952  0.03957262 0.03391938 0.02713551 0.01922098\n",
      " 0.01017582 0.        ]\n",
      "[ 1.          0.89473684  0.78947368  0.68421053  0.57894737  0.47368421\n",
      "  0.36842105  0.26315789  0.15789474  0.05263158 -0.05263158 -0.15789474\n",
      " -0.26315789 -0.36842105 -0.47368421 -0.57894737 -0.68421053 -0.78947368\n",
      " -0.89473684 -1.        ]\n",
      "[196. 196. 196. 196. 196. 196. 196. 196. 196. 196. 196. 196. 196. 196.\n",
      " 196. 196. 196. 196. 196. 196.]\n",
      "[10.          8.00554017  6.23268698  4.68144044  3.35180055  2.24376731\n",
      "  1.35734072  0.69252078  0.24930748  0.02770083  0.02770083  0.24930748\n",
      "  0.69252078  1.35734072  2.24376731  3.35180055  4.68144044  6.23268698\n",
      "  8.00554017 10.        ]\n",
      "[206.         204.00554017 202.23268698 200.68144044 199.35180055\n",
      " 198.24376731 197.35734072 196.69252078 196.24930748 196.02770083\n",
      " 196.02770083 196.24930748 196.69252078 197.35734072 198.24376731\n",
      " 199.35180055 200.68144044 202.23268698 204.00554017 206.        ]\n"
     ]
    },
    {
     "name": "stderr",
     "output_type": "stream",
     "text": [
      "/opt/apps/intel18/python2/2.7.15/lib/python2.7/site-packages/ipykernel_launcher.py:29: MatplotlibDeprecationWarning: pyplot.hold is deprecated.\n",
      "    Future behavior will be consistent with the long-time default:\n",
      "    plot commands add elements without first clearing the\n",
      "    Axes and/or Figure.\n",
      "/opt/apps/intel18/python2/2.7.15/lib/python2.7/site-packages/matplotlib/__init__.py:910: MatplotlibDeprecationWarning: axes.hold is deprecated. Please remove it from your matplotlibrc and/or style files.\n",
      "  mplDeprecation)\n",
      "/opt/apps/intel18/python2/2.7.15/lib/python2.7/site-packages/matplotlib/rcsetup.py:156: MatplotlibDeprecationWarning: axes.hold is deprecated, will be removed in 3.0\n",
      "  mplDeprecation)\n",
      "/opt/apps/intel18/python2/2.7.15/lib/python2.7/site-packages/ipykernel_launcher.py:32: MatplotlibDeprecationWarning: pyplot.hold is deprecated.\n",
      "    Future behavior will be consistent with the long-time default:\n",
      "    plot commands add elements without first clearing the\n",
      "    Axes and/or Figure.\n"
     ]
    },
    {
     "data": {
      "image/png": "[encoded data removed]",
      "text/plain": [
       "<Figure size 432x288 with 1 Axes>"
      ]
     },
     "metadata": {
      "needs_background": "light"
     },
     "output_type": "display_data"
    }
   ],
   "source": [
    "Energy_calc()"
   ]
  },
  {
   "cell_type": "code",
   "execution_count": null,
   "metadata": {},
   "outputs": [],
   "source": []
  },
  {
   "cell_type": "code",
   "execution_count": 7,
   "metadata": {},
   "outputs": [],
   "source": [
    "#Question 3"
   ]
  },
  {
   "cell_type": "code",
   "execution_count": 8,
   "metadata": {},
   "outputs": [],
   "source": [
    "import math\n",
    "def midpoint(f,a,b,n):\n",
    "    xpoints=np.linspace(a,b,n)\n",
    "    sum=0\n",
    "    for i in xpoints[1:len(xpoints)-1]:\n",
    "        temp=np.where(xpoints==i)\n",
    "        temp1=temp[0]\n",
    "        idx=temp1[0]\n",
    "        \n",
    "        \n",
    "        distance=np.subtract(xpoints[idx+1],i)\n",
    "        midpoint=np.multiply(np.add(xpoints[idx+1],i),0.5)\n",
    "        mp=np.array([midpoint])\n",
    "        #print mp\n",
    "        height=map(f,mp)\n",
    "        area=np.multiply(height,distance)\n",
    "        sum=np.add(sum,area)\n",
    "    return sum\n"
   ]
  },
  {
   "cell_type": "code",
   "execution_count": 9,
   "metadata": {},
   "outputs": [
    {
     "data": {
      "text/plain": [
       "array([1.99994506])"
      ]
     },
     "execution_count": 9,
     "metadata": {},
     "output_type": "execute_result"
    }
   ],
   "source": [
    "#Test\n",
    "midpoint(np.exp,0,np.log(3),20000)"
   ]
  },
  {
   "cell_type": "code",
   "execution_count": null,
   "metadata": {},
   "outputs": [],
   "source": []
  },
  {
   "cell_type": "code",
   "execution_count": 29,
   "metadata": {},
   "outputs": [],
   "source": [
    "#Question 4"
   ]
  },
  {
   "cell_type": "code",
   "execution_count": 38,
   "metadata": {},
   "outputs": [
    {
     "ename": "TypeError",
     "evalue": "'numpy.ndarray' object is not callable",
     "output_type": "error",
     "traceback": [
      "\u001b[0;31m\u001b[0m",
      "\u001b[0;31mTypeError\u001b[0mTraceback (most recent call last)",
      "\u001b[0;32m<ipython-input-38-384cc2352108>\u001b[0m in \u001b[0;36m<module>\u001b[0;34m()\u001b[0m\n\u001b[1;32m      1\u001b[0m \u001b[0;31m#x=np.linspace(0,10,10)\u001b[0m\u001b[0;34m\u001b[0m\u001b[0;34m\u001b[0m\u001b[0m\n\u001b[0;32m----> 2\u001b[0;31m \u001b[0mmidpoint\u001b[0m\u001b[0;34m(\u001b[0m\u001b[0;34m(\u001b[0m\u001b[0mnp\u001b[0m\u001b[0;34m.\u001b[0m\u001b[0madd\u001b[0m\u001b[0;34m(\u001b[0m\u001b[0mnp\u001b[0m\u001b[0;34m.\u001b[0m\u001b[0mmultiply\u001b[0m\u001b[0;34m(\u001b[0m\u001b[0mx\u001b[0m\u001b[0;34m,\u001b[0m\u001b[0;34m(\u001b[0m\u001b[0mnp\u001b[0m\u001b[0;34m.\u001b[0m\u001b[0msubtract\u001b[0m\u001b[0;34m(\u001b[0m\u001b[0;36m12\u001b[0m\u001b[0;34m,\u001b[0m\u001b[0mx\u001b[0m\u001b[0;34m)\u001b[0m\u001b[0;34m)\u001b[0m\u001b[0;34m)\u001b[0m\u001b[0;34m,\u001b[0m\u001b[0;34m(\u001b[0m\u001b[0mnp\u001b[0m\u001b[0;34m.\u001b[0m\u001b[0msin\u001b[0m\u001b[0;34m(\u001b[0m\u001b[0;34m(\u001b[0m\u001b[0mnp\u001b[0m\u001b[0;34m.\u001b[0m\u001b[0mmultiply\u001b[0m\u001b[0;34m(\u001b[0m\u001b[0mx\u001b[0m\u001b[0;34m,\u001b[0m\u001b[0mnp\u001b[0m\u001b[0;34m.\u001b[0m\u001b[0mpi\u001b[0m\u001b[0;34m)\u001b[0m\u001b[0;34m)\u001b[0m\u001b[0;34m)\u001b[0m\u001b[0;34m)\u001b[0m\u001b[0;34m)\u001b[0m\u001b[0;34m)\u001b[0m\u001b[0;34m,\u001b[0m\u001b[0;36m0\u001b[0m\u001b[0;34m,\u001b[0m\u001b[0;36m10\u001b[0m\u001b[0;34m,\u001b[0m\u001b[0;36m10\u001b[0m\u001b[0;34m)\u001b[0m\u001b[0;34m\u001b[0m\u001b[0m\n\u001b[0m\u001b[1;32m      3\u001b[0m \u001b[0;31m#midpoint((x*(12-x)+np.sin(x*np.pi)),0,10,6)\u001b[0m\u001b[0;34m\u001b[0m\u001b[0;34m\u001b[0m\u001b[0m\n",
      "\u001b[0;32m<ipython-input-25-9e3045925a5e>\u001b[0m in \u001b[0;36mmidpoint\u001b[0;34m(f, a, b, n)\u001b[0m\n\u001b[1;32m     13\u001b[0m         \u001b[0mmp\u001b[0m\u001b[0;34m=\u001b[0m\u001b[0mnp\u001b[0m\u001b[0;34m.\u001b[0m\u001b[0marray\u001b[0m\u001b[0;34m(\u001b[0m\u001b[0;34m[\u001b[0m\u001b[0mmidpoint\u001b[0m\u001b[0;34m]\u001b[0m\u001b[0;34m)\u001b[0m\u001b[0;34m\u001b[0m\u001b[0m\n\u001b[1;32m     14\u001b[0m         \u001b[0;31m#print mp\u001b[0m\u001b[0;34m\u001b[0m\u001b[0;34m\u001b[0m\u001b[0m\n\u001b[0;32m---> 15\u001b[0;31m         \u001b[0mheight\u001b[0m\u001b[0;34m=\u001b[0m\u001b[0mmap\u001b[0m\u001b[0;34m(\u001b[0m\u001b[0mf\u001b[0m\u001b[0;34m,\u001b[0m\u001b[0mmp\u001b[0m\u001b[0;34m)\u001b[0m\u001b[0;34m\u001b[0m\u001b[0m\n\u001b[0m\u001b[1;32m     16\u001b[0m         \u001b[0marea\u001b[0m\u001b[0;34m=\u001b[0m\u001b[0mnp\u001b[0m\u001b[0;34m.\u001b[0m\u001b[0mmultiply\u001b[0m\u001b[0;34m(\u001b[0m\u001b[0mheight\u001b[0m\u001b[0;34m,\u001b[0m\u001b[0mdistance\u001b[0m\u001b[0;34m)\u001b[0m\u001b[0;34m\u001b[0m\u001b[0m\n\u001b[1;32m     17\u001b[0m         \u001b[0msum\u001b[0m\u001b[0;34m=\u001b[0m\u001b[0mnp\u001b[0m\u001b[0;34m.\u001b[0m\u001b[0madd\u001b[0m\u001b[0;34m(\u001b[0m\u001b[0msum\u001b[0m\u001b[0;34m,\u001b[0m\u001b[0marea\u001b[0m\u001b[0;34m)\u001b[0m\u001b[0;34m\u001b[0m\u001b[0m\n",
      "\u001b[0;31mTypeError\u001b[0m: 'numpy.ndarray' object is not callable"
     ]
    }
   ],
   "source": [
    "#x=np.linspace(0,10,10)\n",
    "midpoint((np.add(np.multiply(x,(np.subtract(12,x))),(np.sin((np.multiply(x,np.pi)))))),0,10,10)\n",
    "#midpoint((x*(12-x)+np.sin(x*np.pi)),0,10,6)"
   ]
  },
  {
   "cell_type": "code",
   "execution_count": 58,
   "metadata": {},
   "outputs": [],
   "source": [
    "def mdpnt(x):\n",
    "    #m=np.array()\n",
    "    for i in x[1:len(x)-1]:\n",
    "        temp=np.where(x==i)\n",
    "        temp1=temp[0]\n",
    "        idx=temp1[0]\n",
    "                \n",
    "        #distance=np.subtract(xpoints[idx+1],i)\n",
    "        midpoint=np.multiply(np.add(x[idx+1],i),0.5)\n",
    "        m=np.append(mp,[midpoint])\n",
    "    return m"
   ]
  },
  {
   "cell_type": "code",
   "execution_count": 59,
   "metadata": {},
   "outputs": [
    {
     "name": "stdout",
     "output_type": "stream",
     "text": [
      "[8.75 8.75]\n"
     ]
    }
   ],
   "source": [
    "x=np.linspace(0,10,5)\n",
    "y=(np.add(np.multiply(x,(np.subtract(12,x))),(np.sin((np.multiply(x,np.pi))))))\n",
    "#mpl.plot(x,y)\n",
    "#mpl.show()\n",
    "#mpl.hold('on')\n",
    "mp=np.array(mdpnt(x))\n",
    "print mp\n"
   ]
  },
  {
   "cell_type": "code",
   "execution_count": null,
   "metadata": {},
   "outputs": [],
   "source": []
  }
 ],
 "metadata": {
  "kernelspec": {
   "display_name": "Python 2",
   "language": "python",
   "name": "python2"
  },
  "language_info": {
   "codemirror_mode": {
    "name": "ipython",
    "version": 2
   },
   "file_extension": ".py",
   "mimetype": "text/x-python",
   "name": "python",
   "nbconvert_exporter": "python",
   "pygments_lexer": "ipython2",
   "version": "2.7.15"
  }
 },
 "nbformat": 4,
 "nbformat_minor": 2
}
