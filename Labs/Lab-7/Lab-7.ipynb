{
 "cells": [
  {
   "cell_type": "code",
   "execution_count": 1,
   "metadata": {},
   "outputs": [],
   "source": [
    "#Question 1\n",
    "import numpy as np"
   ]
  },
  {
   "cell_type": "code",
   "execution_count": 34,
   "metadata": {},
   "outputs": [],
   "source": [
    "def Hatfunc(x):\n",
    "    y=np.array(x) \n",
    "    y[x<0]=0.\n",
    "    index=np.logical_and(x>=0,x<1)\n",
    "    y[index]=x[index]\n",
    "    index2=np.logical_and(x>=1,x<2)\n",
    "    y[index2]=x[index2]\n",
    "    y[x>=2]=0.\n",
    "    return y  \n",
    "    \n",
    "    "
   ]
  },
  {
   "cell_type": "code",
   "execution_count": 37,
   "metadata": {},
   "outputs": [
    {
     "data": {
      "text/plain": [
       "[<matplotlib.lines.Line2D at 0x2ba044549150>]"
      ]
     },
     "execution_count": 37,
     "metadata": {},
     "output_type": "execute_result"
    },
    {
     "data": {
      "image/png": "[encoded data removed]",
      "text/plain": [
       "<Figure size 432x288 with 1 Axes>"
      ]
     },
     "metadata": {
      "needs_background": "light"
     },
     "output_type": "display_data"
    }
   ],
   "source": [
    "#Test\n",
    "x=np.array([-5,-4,-3,-2,-1,0,.4,0.9,1,1.5,1.7,2,3,4,5])\n",
    "y=Hatfunc(x)\n",
    "import matplotlib.pyplot as mpl\n",
    "mpl.plot(x,y)"
   ]
  },
  {
   "cell_type": "code",
   "execution_count": null,
   "metadata": {},
   "outputs": [],
   "source": []
  },
  {
   "cell_type": "code",
   "execution_count": 1,
   "metadata": {},
   "outputs": [],
   "source": [
    "#Question 2"
   ]
  },
  {
   "cell_type": "code",
   "execution_count": 29,
   "metadata": {},
   "outputs": [
    {
     "ename": "SyntaxError",
     "evalue": "invalid syntax (<ipython-input-29-10a70bc49075>, line 15)",
     "output_type": "error",
     "traceback": [
      "\u001b[0;36m  File \u001b[0;32m\"<ipython-input-29-10a70bc49075>\"\u001b[0;36m, line \u001b[0;32m15\u001b[0m\n\u001b[0;31m    print y\u001b[0m\n\u001b[0m        ^\u001b[0m\n\u001b[0;31mSyntaxError\u001b[0m\u001b[0;31m:\u001b[0m invalid syntax\n"
     ]
    }
   ],
   "source": [
    "def Energy_calc():\n",
    "    #m=input(\"Enter the mass: \")\n",
    "    #v0=input(\"Enter initial velocity: \")\n",
    "    m=20\n",
    "    v0=1\n",
    "    g=9.8\n",
    "    \n",
    "    temp=2*v0*g\n",
    "    print temp\n",
    "    t=np.linspace(0,temp,20)\n",
    "    print t\n",
    "    \n",
    "    \n",
    "    y=(np.multiply(v0,t)-np.multiply(np.multiply(np.square(t),g),0.5)\n",
    "    print y\n",
    "    \n",
    "    v=1-np.multiply(g,t)\n",
    "    print v\n",
    "    \n",
    "    P=np.multiply(m,g,y)\n",
    "    K=(1/2)*(np.multiply(np.square(v),m))\n",
    "    print P\n",
    "    print K"
   ]
  },
  {
   "cell_type": "code",
   "execution_count": 30,
   "metadata": {},
   "outputs": [
    {
     "name": "stdout",
     "output_type": "stream",
     "text": [
      "19.6\n",
      "[ 0.          1.03157895  2.06315789  3.09473684  4.12631579  5.15789474\n",
      "  6.18947368  7.22105263  8.25263158  9.28421053 10.31578947 11.34736842\n",
      " 12.37894737 13.41052632 14.44210526 15.47368421 16.50526316 17.53684211\n",
      " 18.56842105 19.6       ]\n",
      "[   0.            5.21436011   20.85744044   46.929241     83.42976177\n",
      "  130.35900277  187.71696399  255.50364543  333.71904709  422.36316898\n",
      "  521.43601108  630.93757341  750.86785596  881.22685873 1022.01458172\n",
      " 1173.23102493 1334.87618837 1506.95007202 1689.4526759  1882.384     ]\n",
      "[ 0.          1.03157895  2.06315789  3.09473684  4.12631579  5.15789474\n",
      "  6.18947368  7.22105263  8.25263158  9.28421053 10.31578947 11.34736842\n",
      " 12.37894737 13.41052632 14.44210526 15.47368421 16.50526316 17.53684211\n",
      " 18.56842105 19.6       ]\n",
      "[   1.           -9.10947368  -19.21894737  -29.32842105  -39.43789474\n",
      "  -49.54736842  -59.65684211  -69.76631579  -79.87578947  -89.98526316\n",
      " -100.09473684 -110.20421053 -120.31368421 -130.42315789 -140.53263158\n",
      " -150.64210526 -160.75157895 -170.86105263 -180.97052632 -191.08      ]\n",
      "[196. 196. 196. 196. 196. 196. 196. 196. 196. 196. 196. 196. 196. 196.\n",
      " 196. 196. 196. 196. 196. 196.]\n",
      "[0. 0. 0. 0. 0. 0. 0. 0. 0. 0. 0. 0. 0. 0. 0. 0. 0. 0. 0. 0.]\n"
     ]
    }
   ],
   "source": [
    "Energy_calc()"
   ]
  },
  {
   "cell_type": "code",
   "execution_count": null,
   "metadata": {},
   "outputs": [],
   "source": []
  }
 ],
 "metadata": {
  "kernelspec": {
   "display_name": "Python 2",
   "language": "python",
   "name": "python2"
  },
  "language_info": {
   "codemirror_mode": {
    "name": "ipython",
    "version": 2
   },
   "file_extension": ".py",
   "mimetype": "text/x-python",
   "name": "python",
   "nbconvert_exporter": "python",
   "pygments_lexer": "ipython2",
   "version": "2.7.15"
  }
 },
 "nbformat": 4,
 "nbformat_minor": 2
}
