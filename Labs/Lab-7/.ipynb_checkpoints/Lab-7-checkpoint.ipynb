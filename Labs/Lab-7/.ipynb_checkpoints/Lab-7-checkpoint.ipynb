{
 "cells": [
  {
   "cell_type": "code",
   "execution_count": 2,
   "metadata": {},
   "outputs": [],
   "source": [
    "#Question 1\n",
    "import numpy as np\n",
    "import matplotlib.pyplot as mpl"
   ]
  },
  {
   "cell_type": "code",
   "execution_count": 11,
   "metadata": {},
   "outputs": [],
   "source": [
    "def Hatfunc(x):\n",
    "    y=np.array(x) \n",
    "    y[x<0]=0.\n",
    "    index=np.logical_and(x>=0,x<1)\n",
    "    y[index]=x[index]\n",
    "    index2=np.logical_and(x>=1,x<2)\n",
    "    y[index2]=x[index2]\n",
    "    y[x>=2]=0.\n",
    "    return y  \n",
    "    \n",
    "    "
   ]
  },
  {
   "cell_type": "code",
   "execution_count": 12,
   "metadata": {},
   "outputs": [
    {
     "data": {
      "image/png": "[encoded data removed]",
      "text/plain": [
       "<Figure size 432x288 with 1 Axes>"
      ]
     },
     "metadata": {
      "needs_background": "light"
     },
     "output_type": "display_data"
    }
   ],
   "source": [
    "#Test\n",
    "x=np.array([-5,-4,-3,-2,-1,0,.4,0.9,1,1.5,1.7,2,3,4,5])\n",
    "y=Hatfunc(x)\n",
    "\n",
    "mpl.plot(x,y)\n",
    "mpl.show()"
   ]
  },
  {
   "cell_type": "code",
   "execution_count": null,
   "metadata": {},
   "outputs": [],
   "source": []
  },
  {
   "cell_type": "code",
   "execution_count": 13,
   "metadata": {},
   "outputs": [],
   "source": [
    "#Question 2"
   ]
  },
  {
   "cell_type": "code",
   "execution_count": 31,
   "metadata": {},
   "outputs": [],
   "source": [
    "def Energy_calc():\n",
    "    #m=input(\"Enter the mass: \")\n",
    "    #v0=input(\"Enter initial velocity: \")\n",
    "    m=20\n",
    "    v0=1\n",
    "    g=9.8\n",
    "    \n",
    "    temp=(2*v0)/g\n",
    "    print temp\n",
    "    t=np.linspace(0,temp,20)\n",
    "    #print t\n",
    "    \n",
    "    \n",
    "    y=np.multiply(v0,t)-np.multiply(np.multiply(np.square(t),g),0.5)\n",
    "    print y\n",
    "    \n",
    "    v=1-np.multiply(g,t)\n",
    "    #print v\n",
    "    \n",
    "    P=m*g*y\n",
    "    K=np.multiply(np.multiply(np.square(v),m),0.5)\n",
    "    E=np.add(P,K)\n",
    "    print P\n",
    "    #print K\n",
    "    #print E\n",
    "    \n",
    "    mpl.plot(t,P,'r*')\n",
    "    #mpl.show()\n",
    "    mpl.hold('on')\n",
    "    mpl.plot(t,K,'ko')\n",
    "    #mpl.show()\n",
    "    mpl.hold('on')\n",
    "    mpl.plot(t,E,'b-')\n",
    "    mpl.show()"
   ]
  },
  {
   "cell_type": "code",
   "execution_count": 32,
   "metadata": {},
   "outputs": [
    {
     "name": "stdout",
     "output_type": "stream",
     "text": [
      "0.204081632653\n",
      "[0.         0.01017582 0.01922098 0.02713551 0.03391938 0.03957262\n",
      " 0.0440952  0.04748714 0.04974843 0.05087908 0.05087908 0.04974843\n",
      " 0.04748714 0.0440952  0.03957262 0.03391938 0.02713551 0.01922098\n",
      " 0.01017582 0.        ]\n",
      "[0.         1.99445983 3.76731302 5.31855956 6.64819945 7.75623269\n",
      " 8.64265928 9.30747922 9.75069252 9.97229917 9.97229917 9.75069252\n",
      " 9.30747922 8.64265928 7.75623269 6.64819945 5.31855956 3.76731302\n",
      " 1.99445983 0.        ]\n"
     ]
    },
    {
     "name": "stderr",
     "output_type": "stream",
     "text": [
      "/opt/apps/intel18/python2/2.7.15/lib/python2.7/site-packages/ipykernel_launcher.py:29: MatplotlibDeprecationWarning: pyplot.hold is deprecated.\n",
      "    Future behavior will be consistent with the long-time default:\n",
      "    plot commands add elements without first clearing the\n",
      "    Axes and/or Figure.\n",
      "/opt/apps/intel18/python2/2.7.15/lib/python2.7/site-packages/ipykernel_launcher.py:32: MatplotlibDeprecationWarning: pyplot.hold is deprecated.\n",
      "    Future behavior will be consistent with the long-time default:\n",
      "    plot commands add elements without first clearing the\n",
      "    Axes and/or Figure.\n"
     ]
    },
    {
     "data": {
      "image/png": "[encoded data removed]",
      "text/plain": [
       "<Figure size 432x288 with 1 Axes>"
      ]
     },
     "metadata": {
      "needs_background": "light"
     },
     "output_type": "display_data"
    }
   ],
   "source": [
    "Energy_calc()"
   ]
  },
  {
   "cell_type": "code",
   "execution_count": null,
   "metadata": {},
   "outputs": [],
   "source": []
  },
  {
   "cell_type": "code",
   "execution_count": 16,
   "metadata": {},
   "outputs": [],
   "source": [
    "#Question 3"
   ]
  },
  {
   "cell_type": "code",
   "execution_count": 49,
   "metadata": {},
   "outputs": [],
   "source": [
    "import math\n",
    "def midpoint(f,a,b,n):\n",
    "    xpoints=np.linspace(a,b,n)\n",
    "    sum=0\n",
    "    for i in xpoints[0:len(xpoints)-1]:\n",
    "        temp=np.where(xpoints==i)\n",
    "        temp1=temp[0]\n",
    "        idx=temp1[0]\n",
    "        \n",
    "        \n",
    "        distance=np.subtract(xpoints[idx+1],i)\n",
    "        midpoint=np.multiply(np.add(xpoints[idx+1],i),0.5)\n",
    "        mp=np.array([midpoint])\n",
    "        #print mp\n",
    "        height=map(f,mp)\n",
    "        area=np.multiply(height,distance)\n",
    "        sum=np.add(sum,area)\n",
    "    return sum\n"
   ]
  },
  {
   "cell_type": "code",
   "execution_count": 51,
   "metadata": {},
   "outputs": [
    {
     "data": {
      "text/plain": [
       "array([4.9149595e-15])"
      ]
     },
     "execution_count": 51,
     "metadata": {},
     "output_type": "execute_result"
    }
   ],
   "source": [
    "#Test\n",
    "midpoint(np.cos,0,np.pi,20000)"
   ]
  },
  {
   "cell_type": "code",
   "execution_count": null,
   "metadata": {},
   "outputs": [],
   "source": []
  },
  {
   "cell_type": "code",
   "execution_count": 19,
   "metadata": {},
   "outputs": [],
   "source": [
    "#Question 4"
   ]
  },
  {
   "cell_type": "code",
   "execution_count": null,
   "metadata": {},
   "outputs": [],
   "source": []
  },
  {
   "cell_type": "code",
   "execution_count": 3,
   "metadata": {},
   "outputs": [],
   "source": [
    "def mdpnt(x):\n",
    "    m=list()\n",
    "    for i in x[0:len(x)-1]:\n",
    "        temp=np.where(x==i)\n",
    "        temp1=temp[0]\n",
    "        idx=temp1[0]\n",
    "                \n",
    "        #distance=np.subtract(xpoints[idx+1],i)\n",
    "        midpoint=np.multiply(np.add(x[idx+1],i),0.5)\n",
    "    \n",
    "        m.append(midpoint)\n",
    "    return m"
   ]
  },
  {
   "cell_type": "code",
   "execution_count": 16,
   "metadata": {
    "scrolled": true
   },
   "outputs": [],
   "source": [
    "def visual_integration(a,b,n):\n",
    "    x=np.linspace(a,b,n)\n",
    "    \n",
    "    \n",
    "    y=(x*(12-x)+np.sin(x*np.pi))\n",
    "\n",
    "    mpl.plot(x,y)\n",
    "    #mpl.show()\n",
    "    #mpl.hold('on')\n",
    "\n",
    "    w=(b-a)/n\n",
    "    \n",
    "    mp_y=mdpnt(y)\n",
    "    print mp_y\n",
    "    mp_x=mdpnt(x)\n",
    "    print mp_x\n",
    "    \n",
    "    mpl.bar(mp_x,mp_y,w,facecolor='white', edgecolor='blue')\n",
    "    mpl.fill_between(mp_x,mp_y)\n",
    "    mpl.show()"
   ]
  },
  {
   "cell_type": "code",
   "execution_count": 17,
   "metadata": {},
   "outputs": [
    {
     "name": "stdout",
     "output_type": "stream",
     "text": [
      "[12.375, 29.875, 33.875, 26.375]\n",
      "[1.25, 3.75, 6.25, 8.75]\n"
     ]
    },
    {
     "data": {
      "image/png": "[encoded data removed]",
      "text/plain": [
       "<Figure size 432x288 with 1 Axes>"
      ]
     },
     "metadata": {
      "needs_background": "light"
     },
     "output_type": "display_data"
    }
   ],
   "source": [
    "visual_integration(0,10,5)"
   ]
  },
  {
   "cell_type": "code",
   "execution_count": null,
   "metadata": {},
   "outputs": [],
   "source": []
  }
 ],
 "metadata": {
  "kernelspec": {
   "display_name": "Python 2",
   "language": "python",
   "name": "python2"
  },
  "language_info": {
   "codemirror_mode": {
    "name": "ipython",
    "version": 2
   },
   "file_extension": ".py",
   "mimetype": "text/x-python",
   "name": "python",
   "nbconvert_exporter": "python",
   "pygments_lexer": "ipython2",
   "version": "2.7.15"
  }
 },
 "nbformat": 4,
 "nbformat_minor": 2
}
