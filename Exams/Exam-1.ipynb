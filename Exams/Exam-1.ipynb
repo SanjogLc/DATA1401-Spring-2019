{
 "cells": [
  {
   "cell_type": "code",
   "execution_count": 1,
   "metadata": {
    "collapsed": true
   },
   "outputs": [],
   "source": [
    "#Question 2 begins here\n",
    "#2)a)\n",
    "matrix=[]\n",
    "def constant(n,m,c):\n",
    "    matrix=[[0 for x in range(n)] for y in range(m)] \n",
    "    for i in range(m):\n",
    "        for j in range(n):\n",
    "            matrix[i][j]=c\n",
    "    return matrix\n",
    "        "
   ]
  },
  {
   "cell_type": "code",
   "execution_count": 2,
   "metadata": {},
   "outputs": [
    {
     "data": {
      "text/plain": [
       "[[3, 3], [3, 3], [3, 3]]"
      ]
     },
     "execution_count": 2,
     "metadata": {},
     "output_type": "execute_result"
    }
   ],
   "source": [
    "#Error Check\n",
    "constant(2,3,3)"
   ]
  },
  {
   "cell_type": "code",
   "execution_count": 3,
   "metadata": {
    "collapsed": true
   },
   "outputs": [],
   "source": [
    "#2)b)\n",
    "def zeros(n,m):\n",
    "    return constant(n,m,0)\n",
    "def ones(n,m):\n",
    "    return constant(n,m,1)"
   ]
  },
  {
   "cell_type": "code",
   "execution_count": 4,
   "metadata": {},
   "outputs": [
    {
     "data": {
      "text/plain": [
       "[[1, 1], [1, 1], [1, 1]]"
      ]
     },
     "execution_count": 4,
     "metadata": {},
     "output_type": "execute_result"
    }
   ],
   "source": [
    "#Error check\n",
    "ones(2,3)\n",
    "#zeros(4,5)"
   ]
  },
  {
   "cell_type": "code",
   "execution_count": 5,
   "metadata": {
    "collapsed": true
   },
   "outputs": [],
   "source": [
    "#2)c)\n",
    "def eye(n):\n",
    "    Id_matrix=[[0 for x in range(n)] for y in range(n)]\n",
    "    for i in range(n):\n",
    "        for j in range(n):\n",
    "            if (i==j):\n",
    "                Id_matrix[i][j]=1\n",
    "            else:\n",
    "                Id_matrix[i][j]=0\n",
    "    return Id_matrix  "
   ]
  },
  {
   "cell_type": "code",
   "execution_count": 6,
   "metadata": {},
   "outputs": [
    {
     "data": {
      "text/plain": [
       "[[1, 0, 0, 0], [0, 1, 0, 0], [0, 0, 1, 0], [0, 0, 0, 1]]"
      ]
     },
     "execution_count": 6,
     "metadata": {},
     "output_type": "execute_result"
    }
   ],
   "source": [
    "#Error check\n",
    "eye(4)"
   ]
  },
  {
   "cell_type": "code",
   "execution_count": 7,
   "metadata": {
    "collapsed": true
   },
   "outputs": [],
   "source": [
    "#Question 3 begins here\n",
    "def shape(M):\n",
    "    size=len(M[0])\n",
    "    counter=0\n",
    "    for i in range(len(M)):\n",
    "        if(len(M[i])!=size):\n",
    "            counter+=1\n",
    "            continue\n",
    "    if (counter==0):\n",
    "        row=len(M)\n",
    "        col=len(M[0])\n",
    "        return (col,row)\n",
    "    else:\n",
    "        return False\n",
    "    \n"
   ]
  },
  {
   "cell_type": "code",
   "execution_count": 8,
   "metadata": {},
   "outputs": [
    {
     "data": {
      "text/plain": [
       "(3, 2)"
      ]
     },
     "execution_count": 8,
     "metadata": {},
     "output_type": "execute_result"
    }
   ],
   "source": [
    "#Error check\n",
    "shape([[1,2,1],[1,2,5]])"
   ]
  },
  {
   "cell_type": "code",
   "execution_count": 9,
   "metadata": {
    "collapsed": true
   },
   "outputs": [],
   "source": [
    "#3)b)\n",
    "def row(M,n):\n",
    "    return M[n-1]\n",
    "def column(M,n):\n",
    "    res=[]\n",
    "    for i in M:\n",
    "        res.append(i[n])\n",
    "    return res"
   ]
  },
  {
   "cell_type": "code",
   "execution_count": 10,
   "metadata": {},
   "outputs": [
    {
     "data": {
      "text/plain": [
       "[5, 3, 5]"
      ]
     },
     "execution_count": 10,
     "metadata": {},
     "output_type": "execute_result"
    }
   ],
   "source": [
    "#Error check\n",
    "column([[1,2,5],[1,3,3],[1,23,5]],2)"
   ]
  },
  {
   "cell_type": "code",
   "execution_count": 11,
   "metadata": {
    "collapsed": true
   },
   "outputs": [],
   "source": [
    "#3)c)\n",
    "def block(M,n_0,n_1,m_0,m_1):\n",
    "    res=[]\n",
    "    temp=[]\n",
    "    for i in range(m_0,m_1+1):\n",
    "        for j in range(n_0,n_1+1):\n",
    "            temp.append(M[i][j])\n",
    "        res.append(temp)\n",
    "        temp=[]\n",
    "    return res\n",
    "    "
   ]
  },
  {
   "cell_type": "code",
   "execution_count": 12,
   "metadata": {},
   "outputs": [
    {
     "data": {
      "text/plain": [
       "[[1, 2], [1, 3]]"
      ]
     },
     "execution_count": 12,
     "metadata": {},
     "output_type": "execute_result"
    }
   ],
   "source": [
    "#Error check\n",
    "block([[1,2,5],[1,3,3],[1,23,5]],0,1,0,1)"
   ]
  },
  {
   "cell_type": "code",
   "execution_count": 13,
   "metadata": {
    "collapsed": true
   },
   "outputs": [],
   "source": [
    "#Question 4 begins here\n",
    "#4)a)\n",
    "def transpose(M):\n",
    "    res=[[0 for x in range(len(M))] for y in range(len(M[0]))]\n",
    "    for i in range(len(M)):\n",
    "        for j in range(len(M[0])):\n",
    "            res[j][i]=M[i][j]\n",
    "    return res\n",
    "            "
   ]
  },
  {
   "cell_type": "code",
   "execution_count": 14,
   "metadata": {},
   "outputs": [
    {
     "data": {
      "text/plain": [
       "[[1, 1], [2, 1], [3, 0]]"
      ]
     },
     "execution_count": 14,
     "metadata": {},
     "output_type": "execute_result"
    }
   ],
   "source": [
    "#Error check\n",
    "transpose([[1,2,3],[1,1,0]])"
   ]
  },
  {
   "cell_type": "code",
   "execution_count": 15,
   "metadata": {
    "collapsed": true
   },
   "outputs": [],
   "source": [
    "#4)b)\n",
    "def scalarmul(M,c):\n",
    "    for i in range(len(M)):\n",
    "        for j in range(len(M[0])):\n",
    "            M[i][j]=c*M[i][j]\n",
    "    return M"
   ]
  },
  {
   "cell_type": "code",
   "execution_count": 16,
   "metadata": {},
   "outputs": [
    {
     "data": {
      "text/plain": [
       "[[2, 4, 6], [2, 2, 0]]"
      ]
     },
     "execution_count": 16,
     "metadata": {},
     "output_type": "execute_result"
    }
   ],
   "source": [
    "#Error check \n",
    "scalarmul([[1,2,3],[1,1,0]],2)"
   ]
  },
  {
   "cell_type": "code",
   "execution_count": 17,
   "metadata": {
    "collapsed": true
   },
   "outputs": [],
   "source": [
    "#4)c)\n",
    "def add(M,N):\n",
    "    #res=[[0 for x in range(len(M))] for y in range(len(M[0]))]\n",
    "    res=[]\n",
    "    temp=[]\n",
    "    if((len(M)==len(N))and (len(M[0])==len(N[0]))):\n",
    "        for i in range(len(M)):\n",
    "            for j in range(len(M[0])):\n",
    "                temp.append(M[i][j]+N[i][j])\n",
    "            res.append(temp)      \n",
    "            temp=[]\n",
    "        return res          \n",
    "    else:\n",
    "        return \"error: sizes of M and N do not match\"\n",
    "   "
   ]
  },
  {
   "cell_type": "code",
   "execution_count": 18,
   "metadata": {},
   "outputs": [
    {
     "data": {
      "text/plain": [
       "[[2, 4, 6], [2, 2, 0], [5, 7, 9]]"
      ]
     },
     "execution_count": 18,
     "metadata": {},
     "output_type": "execute_result"
    }
   ],
   "source": [
    "#Error check\n",
    "add([[1,2,3],[1,1,0],[1,2,3]],[[1,2,3],[1,1,0],[4,5,6]])"
   ]
  },
  {
   "cell_type": "code",
   "execution_count": 19,
   "metadata": {
    "collapsed": true
   },
   "outputs": [],
   "source": [
    "#4)d)\n",
    "def sub(M,N):\n",
    "    res=[]\n",
    "    temp=[]\n",
    "    if((len(M)==len(N))and (len(M[0])==len(N[0]))):\n",
    "        for i in range(len(M)):\n",
    "            for j in range(len(M[0])):\n",
    "                temp.append(M[i][j]-N[i][j])\n",
    "            res.append(temp)      \n",
    "            temp=[]\n",
    "        return res          \n",
    "    else:\n",
    "        return \"error: sizes of M and N do not match\"\n"
   ]
  },
  {
   "cell_type": "code",
   "execution_count": 20,
   "metadata": {},
   "outputs": [
    {
     "data": {
      "text/plain": [
       "[[0, 0, 0], [0, 0, 0], [-3, -3, -3]]"
      ]
     },
     "execution_count": 20,
     "metadata": {},
     "output_type": "execute_result"
    }
   ],
   "source": [
    "#Error check\n",
    "sub([[1,2,3],[1,1,0],[1,2,3]],[[1,2,3],[1,1,0],[4,5,6]])"
   ]
  },
  {
   "cell_type": "code",
   "execution_count": 21,
   "metadata": {
    "collapsed": true
   },
   "outputs": [],
   "source": [
    "#4)e)\n",
    "def elementmult(M,N):\n",
    "    res=[]\n",
    "    temp=[]\n",
    "    if((len(M)==len(N))and (len(M[0])==len(N[0]))):\n",
    "        for i in range(len(M)):\n",
    "            for j in range(len(M[0])):\n",
    "                temp.append(M[i][j]*N[i][j])\n",
    "            res.append(temp)      \n",
    "            temp=[]\n",
    "        return res          \n",
    "    else:\n",
    "        return \"error: sizes of M and N do not match\"\n"
   ]
  },
  {
   "cell_type": "code",
   "execution_count": 22,
   "metadata": {},
   "outputs": [
    {
     "data": {
      "text/plain": [
       "[[1, 4, 36], [1, 1, 0], [4, 10, 18]]"
      ]
     },
     "execution_count": 22,
     "metadata": {},
     "output_type": "execute_result"
    }
   ],
   "source": [
    "#Error check\n",
    "elementmult([[1,2,12],[1,1,0],[1,2,3]],[[1,2,3],[1,1,0],[4,5,6]])"
   ]
  },
  {
   "cell_type": "code",
   "execution_count": 23,
   "metadata": {
    "collapsed": true
   },
   "outputs": [],
   "source": [
    "#4)f)\n",
    "def matmult(M,N):\n",
    "    res=[]\n",
    "    temp=[]\n",
    "    if(len(M[0])==len(N)):\n",
    "        res=[[0 for x in range(len(M))] for y in range(len(N[0]))]\n",
    "        for i in range(len(M)):\n",
    "            for j in range(len(N[0])):\n",
    "                for k in range(len(N)):\n",
    "                    res[i][j] += M[i][k] * N[k][j]\n",
    "        return res\n",
    "    else:\n",
    "        return \"Number of columns of M and number of rows of N must match!\"\n"
   ]
  },
  {
   "cell_type": "code",
   "execution_count": 24,
   "metadata": {},
   "outputs": [
    {
     "data": {
      "text/plain": [
       "[[9, 17], [9, 17]]"
      ]
     },
     "execution_count": 24,
     "metadata": {},
     "output_type": "execute_result"
    }
   ],
   "source": [
    "#Error check\n",
    "matmult([[1,2,3],[1,2,3]],[[1,2],[1,3],[2,3]])"
   ]
  },
  {
   "cell_type": "code",
   "execution_count": 25,
   "metadata": {
    "collapsed": true
   },
   "outputs": [],
   "source": [
    "#4)g)\n",
    "def outer(A,B):\n",
    "    return matmult(A,B)\n",
    "def dot(A,B):\n",
    "    C=transpose(A)\n",
    "    return elementmult(C,B)"
   ]
  },
  {
   "cell_type": "code",
   "execution_count": 26,
   "metadata": {},
   "outputs": [
    {
     "data": {
      "text/plain": [
       "'Number of columns of M and number of rows of N must match!'"
      ]
     },
     "execution_count": 26,
     "metadata": {},
     "output_type": "execute_result"
    }
   ],
   "source": [
    "#Error check\n",
    "outer([[1,2,3,6]],[[1],[2]])"
   ]
  },
  {
   "cell_type": "code",
   "execution_count": 70,
   "metadata": {},
   "outputs": [],
   "source": [
    "#Question 5 begins here\n",
    "#5)a)\n",
    "import math\n",
    "def norm(M,i):\n",
    "    if(isinstance(i,int)):\n",
    "        counter=0.0\n",
    "        for x in M:\n",
    "            counter+=abs(math.pow(x,i))\n",
    "        return math.pow(counter,float(1.0/i))\n",
    "    else:\n",
    "        print(\"Error: Attempt to input invalid power\")\n",
    "    "
   ]
  },
  {
   "cell_type": "code",
   "execution_count": 81,
   "metadata": {},
   "outputs": [
    {
     "data": {
      "text/plain": [
       "3.503398060386724"
      ]
     },
     "execution_count": 81,
     "metadata": {},
     "output_type": "execute_result"
    }
   ],
   "source": [
    "#Error check\n",
    "norm([2,2,3],3)"
   ]
  },
  {
   "cell_type": "code",
   "execution_count": 120,
   "metadata": {
    "collapsed": true
   },
   "outputs": [],
   "source": [
    "#Question 6 begins here\n",
    "#6)a)\n",
    "#WORKS ONLY  FOR 2x2 matrix\n",
    "def inv(M):\n",
    "    detmt=(M[0][0]*M[1][1])-(M[0][1]*M[1][0])\n",
    "    if (detmt==0):\n",
    "        return \"Error: The inverse cannot be calculated\"\n",
    "    inv_det=float(1/detmt)\n",
    "    res=[]\n",
    "    temp=[]\n",
    "    for i in range(2):\n",
    "        for j in range(2):\n",
    "            if (i==j):\n",
    "                if(i==0):\n",
    "                    temp.append(M[1][1])\n",
    "                if(i==1):\n",
    "                    temp.append(M[0][0])\n",
    "                \n",
    "            if (i!=j):\n",
    "                temp.append((-1)*M[i][j])\n",
    "                            \n",
    "        res.append(temp)\n",
    "        temp=[]\n",
    "    final=scalarmul(res,inv_det)\n",
    "    return final\n",
    "    "
   ]
  },
  {
   "cell_type": "code",
   "execution_count": 121,
   "metadata": {},
   "outputs": [
    {
     "data": {
      "text/plain": [
       "[[3.0, -2.0], [-1.0, 1.0]]"
      ]
     },
     "execution_count": 121,
     "metadata": {},
     "output_type": "execute_result"
    }
   ],
   "source": [
    "#Error check\n",
    "inv([[1,2],[1,3]])"
   ]
  }
 ],
 "metadata": {
  "kernelspec": {
   "display_name": "Python 2",
   "language": "python",
   "name": "python2"
  },
  "language_info": {
   "codemirror_mode": {
    "name": "ipython",
    "version": 2
   },
   "file_extension": ".py",
   "mimetype": "text/x-python",
   "name": "python",
   "nbconvert_exporter": "python",
   "pygments_lexer": "ipython2",
   "version": "2.7.13"
  }
 },
 "nbformat": 4,
 "nbformat_minor": 2
}
