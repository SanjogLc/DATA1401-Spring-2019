{
 "cells": [
  {
   "cell_type": "code",
   "execution_count": 32,
   "metadata": {},
   "outputs": [],
   "source": [
    "from gradebook import*"
   ]
  },
  {
   "cell_type": "code",
   "execution_count": 50,
   "metadata": {},
   "outputs": [],
   "source": [
    "class curved_letter_grader(grade_calculator):\n",
    "    __mean=0\n",
    "    __SD=0\n",
    "    __grades_definition=[]\n",
    "    \n",
    "    def __init__(self,mean,SD):\n",
    "        self.__mean=mean\n",
    "        self.__SD=SD\n",
    "        grade_calculator.__init__(self,\"Curved grade\",False)\n",
    "        self.__grades_definition=[(self.__mean+self.__SD),self.__mean,(self.__mean-self.__SD),(self.__mean-2*self.__SD), (self.__mean-3*self.__SD)]\n",
    "    \n",
    "    def curved_grades(self):\n",
    "        return self.__grades_definition\n",
    "    \n",
    "    def apply(self,a_grade):\n",
    "        if not isinstance(a_grade,grade):\n",
    "            print isinstance(a_grade,grade)\n",
    "            print self.name()+ \" Error: Did not get an proper grade as input.\"\n",
    "            raise Exception\n",
    "        if not a_grade.numerical():\n",
    "            print self.name()+ \" Error: Did not get a numerical grade as input.\"\n",
    "            raise Exception\n",
    "\n",
    "        if (a_grade.value()>=0 and a_grade.value()<self.__grades_definition[3]):\n",
    "            return grade(\"Curved grade\",value=\"F\").value()\n",
    "        elif (a_grade.value()>=self.__grades_definition[3] and a_grade.value()<self.__grades_definition[2]):\n",
    "            return grade(\"Curved grade\",value=\"D\").value()\n",
    "        elif (a_grade.value()>=self.__grades_definition[2] and a_grade.value()<self.__grades_definition[1]):\n",
    "            return grade(\"Curved grade\",value=\"C\").value()\n",
    "        elif (a_grade.value()>=self.__grades_definition[1] and a_grade.value()<self.__grades_definition[0]):\n",
    "            return grade(\"Curved grade\",value=\"B\").value()\n",
    "        else:\n",
    "            return grade(\"Curved grade\",value=\"A\").value()\n",
    "\n",
    "\n",
    "    def mean(self):\n",
    "        print self.__mean\n",
    "    def SD(self):\n",
    "        print self.__SD"
   ]
  },
  {
   "cell_type": "code",
   "execution_count": 57,
   "metadata": {},
   "outputs": [
    {
     "name": "stdout",
     "output_type": "stream",
     "text": [
      "Exam 1 Letter: 0\n",
      "Exam 1: 68.9\n"
     ]
    }
   ],
   "source": [
    "a_student=student(\"John\",\"Doe\",111)\n",
    "\n",
    "\n",
    "a_student.add_grade(grade(\"Exam 1\",value=68.9),True)\n",
    "a_student.add_grade(grade(\"Exam 1 Letter\",value=0),True)\n",
    "\n",
    "a_student.print_grades()\n",
    "\n"
   ]
  },
  {
   "cell_type": "code",
   "execution_count": 58,
   "metadata": {},
   "outputs": [
    {
     "data": {
      "text/plain": [
       "'C'"
      ]
     },
     "execution_count": 58,
     "metadata": {},
     "output_type": "execute_result"
    }
   ],
   "source": [
    "a_grader=curved_letter_grader(70.,5.)\n",
    "a_grader.apply(a_student[\"Exam 1\"])\n",
    "\n"
   ]
  },
  {
   "cell_type": "code",
   "execution_count": null,
   "metadata": {},
   "outputs": [],
   "source": []
  }
 ],
 "metadata": {
  "kernelspec": {
   "display_name": "Python 2",
   "language": "python",
   "name": "python2"
  },
  "language_info": {
   "codemirror_mode": {
    "name": "ipython",
    "version": 2
   },
   "file_extension": ".py",
   "mimetype": "text/x-python",
   "name": "python",
   "nbconvert_exporter": "python",
   "pygments_lexer": "ipython2",
   "version": "2.7.15"
  }
 },
 "nbformat": 4,
 "nbformat_minor": 2
}
